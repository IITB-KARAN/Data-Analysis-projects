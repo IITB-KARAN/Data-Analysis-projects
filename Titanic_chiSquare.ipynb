{
 "cells": [
  {
   "cell_type": "code",
   "execution_count": 1,
   "id": "891a5617-244d-4056-9cac-0d681c8662a3",
   "metadata": {},
   "outputs": [
    {
     "name": "stdout",
     "output_type": "stream",
     "text": [
      "\n",
      "Contingency Table:\n",
      "Sex       female  male\n",
      "Survived              \n",
      "0             81   468\n",
      "1            233   109\n",
      "\n",
      "Chi-Square Statistic = 260.7170\n",
      "Degrees of Freedom   = 1\n",
      "P-Value              = 0.0000\n",
      "Decision: Reject H0 (There is a significant relationship between Survived and Sex)\n",
      "\n",
      "Contingency Table:\n",
      "Pclass      1   2    3\n",
      "Survived              \n",
      "0          80  97  372\n",
      "1         136  87  119\n",
      "\n",
      "Chi-Square Statistic = 102.8890\n",
      "Degrees of Freedom   = 2\n",
      "P-Value              = 0.0000\n",
      "Decision: Reject H0 (There is a significant relationship between Survived and Pclass)\n"
     ]
    }
   ],
   "source": [
    "import pandas as pd\n",
    "from scipy.stats import chi2_contingency\n",
    "\n",
    "def chi_square_test(data, col1, col2, alpha=0.05):\n",
    "    contingency_table = pd.crosstab(data[col1], data[col2])\n",
    "    print(\"\\nContingency Table:\")\n",
    "    print(contingency_table)\n",
    "\n",
    "    chi2, p, dof, expected = chi2_contingency(contingency_table)\n",
    "\n",
    "    print(f\"\\nChi-Square Statistic = {chi2:.4f}\")\n",
    "    print(f\"Degrees of Freedom   = {dof}\")\n",
    "    print(f\"P-Value              = {p:.4f}\")\n",
    "\n",
    "    if p < alpha:\n",
    "        print(f\"Decision: Reject H0 (There is a significant relationship between {col1} and {col2})\")\n",
    "    else:\n",
    "        print(f\"Decision: Fail to reject H0 (No significant relationship between {col1} and {col2})\")\n",
    "\n",
    "df = pd.read_csv(\"Titanic-Dataset.csv\")\n",
    "chi_square_test(df, \"Survived\", \"Sex\")\n",
    "chi_square_test(df, \"Survived\", \"Pclass\")"
   ]
  },
  {
   "cell_type": "code",
   "execution_count": null,
   "id": "d7e89314-b708-4a24-b6d7-894442239b86",
   "metadata": {},
   "outputs": [],
   "source": []
  }
 ],
 "metadata": {
  "kernelspec": {
   "display_name": "Python 3 (ipykernel)",
   "language": "python",
   "name": "python3"
  },
  "language_info": {
   "codemirror_mode": {
    "name": "ipython",
    "version": 3
   },
   "file_extension": ".py",
   "mimetype": "text/x-python",
   "name": "python",
   "nbconvert_exporter": "python",
   "pygments_lexer": "ipython3",
   "version": "3.13.5"
  }
 },
 "nbformat": 4,
 "nbformat_minor": 5
}
